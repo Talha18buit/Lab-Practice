{
 "cells": [
  {
   "cell_type": "code",
   "execution_count": 1,
   "metadata": {},
   "outputs": [
    {
     "name": "stdout",
     "output_type": "stream",
     "text": [
      "Muhammad Talha 18B-101-cs(A)\n"
     ]
    }
   ],
   "source": [
    "print(\"Muhammad Talha 18B-101-cs(A)\")"
   ]
  },
  {
   "cell_type": "markdown",
   "metadata": {},
   "source": [
    "# LAB - 02 Programming Excercises\n"
   ]
  },
  {
   "cell_type": "markdown",
   "metadata": {},
   "source": [
    "#QUESTION 1 \n"
   ]
  },
  {
   "cell_type": "code",
   "execution_count": 2,
   "metadata": {},
   "outputs": [
    {
     "name": "stdout",
     "output_type": "stream",
     "text": [
      "Enter Year : 1999\n",
      "Enter Month : 05\n",
      "Enter Day: 27\n",
      "Today Date is  2019-01-19 year you enter is 1999 month you enter is 5 And day you enter 27 the days between todays date and the given date is 7177 days, 0:00:00\n",
      "Current time : \n",
      "13:27:03\n"
     ]
    }
   ],
   "source": [
    "import datetime\n",
    "date_today = datetime.date.today()\n",
    "year = int(input(\"Enter Year : \"))\n",
    "month = int(input(\"Enter Month : \"))\n",
    "day = int(input(\"Enter Day: \"))\n",
    "date_user = datetime.date(year,month,day)\n",
    "dayz = date_today - date_user\n",
    "time = datetime.datetime.now()\n",
    "print(\"Today Date is \",str(date_today)+ \" year you enter is\",str(year)+ \" month you enter is\",str(month)+ \" And day you enter\", str(day)+ \" the days between todays date and the given date is\", str(dayz))\n",
    "print (\"Current time : \")\n",
    "print(time.strftime( \"%H:%M:%S\"))"
   ]
  },
  {
   "cell_type": "markdown",
   "metadata": {},
   "source": [
    "#QUESTION 2"
   ]
  },
  {
   "cell_type": "code",
   "execution_count": 3,
   "metadata": {},
   "outputs": [
    {
     "name": "stdout",
     "output_type": "stream",
     "text": [
      "Enter the lenght of the ladder : 16\n",
      "Enter The angle : 75\n",
      "The height of ladder will reach the wall is  15.454813220625093 meteres\n"
     ]
    }
   ],
   "source": [
    "lenght = int(input(\"Enter the lenght of the ladder : \"))\n",
    "degree_angle = int(input(\"Enter The angle : \"))\n",
    "from math import pi\n",
    "radians = (pi*degree_angle/180)\n",
    "from math import sin\n",
    "height = (lenght*sin(radians))\n",
    "print(\"The height of ladder will reach the wall is \",str(height) +\" meteres\")"
   ]
  },
  {
   "cell_type": "code",
   "execution_count": 4,
   "metadata": {},
   "outputs": [
    {
     "name": "stdout",
     "output_type": "stream",
     "text": [
      "Enter the lenght of the ladder : 20\n",
      "Enter The angle : 0\n",
      "The height of ladder will reach the wall is  0.0 meteres\n"
     ]
    }
   ],
   "source": [
    "lenght = int(input(\"Enter the lenght of the ladder : \"))\n",
    "degree_angle = int(input(\"Enter The angle : \"))\n",
    "from math import pi\n",
    "radians = (pi*degree_angle/180)\n",
    "from math import sin\n",
    "height = (lenght*sin(radians))\n",
    "print(\"The height of ladder will reach the wall is \",str(height) +\" meteres\")"
   ]
  },
  {
   "cell_type": "code",
   "execution_count": 5,
   "metadata": {},
   "outputs": [
    {
     "name": "stdout",
     "output_type": "stream",
     "text": [
      "Enter the lenght of the ladder : 24\n",
      "Enter The angle : 45\n",
      "The height of ladder will reach the wall is  16.970562748477143 meteres\n"
     ]
    }
   ],
   "source": [
    "lenght = int(input(\"Enter the lenght of the ladder : \"))\n",
    "degree_angle = int(input(\"Enter The angle : \"))\n",
    "from math import pi\n",
    "radians = (pi*degree_angle/180)\n",
    "from math import sin\n",
    "height = (lenght*sin(radians))\n",
    "print(\"The height of ladder will reach the wall is \",str(height) +\" meteres\")"
   ]
  },
  {
   "cell_type": "code",
   "execution_count": 6,
   "metadata": {},
   "outputs": [
    {
     "name": "stdout",
     "output_type": "stream",
     "text": [
      "Enter the lenght of the ladder : 24\n",
      "Enter The angle : 80\n",
      "The height of ladder will reach the wall is  23.63538607229299 meteres\n"
     ]
    }
   ],
   "source": [
    "lenght = int(input(\"Enter the lenght of the ladder : \"))\n",
    "degree_angle = int(input(\"Enter The angle : \"))\n",
    "from math import pi\n",
    "radians = (pi*degree_angle/180)\n",
    "from math import sin\n",
    "height = (lenght*sin(radians))\n",
    "print(\"The height of ladder will reach the wall is \",str(height) +\" meteres\")"
   ]
  },
  {
   "cell_type": "markdown",
   "metadata": {},
   "source": [
    "#QUESTION 3 "
   ]
  },
  {
   "cell_type": "code",
   "execution_count": 7,
   "metadata": {},
   "outputs": [
    {
     "name": "stdout",
     "output_type": "stream",
     "text": [
      "The index of the middile element of lst is  6\n"
     ]
    }
   ],
   "source": [
    "#(a)\n",
    "num_lst = [12,8,56,8,95,12,3,4,6,2,8,7,6]\n",
    "from math import floor\n",
    "middle_index = floor(len(num_lst)/2)\n",
    "print(\"The index of the middile element of lst is \",middle_index)"
   ]
  },
  {
   "cell_type": "code",
   "execution_count": 8,
   "metadata": {},
   "outputs": [
    {
     "name": "stdout",
     "output_type": "stream",
     "text": [
      "The index of the middile element of lst is  3\n"
     ]
    }
   ],
   "source": [
    "#(b)\n",
    "num_lst = [12, 8, 56, 8, 95, 12, 3, 4, 6, 2, 8, 7, 6]\n",
    "from math import floor\n",
    "middle_index = floor(len(num_lst)/2)\n",
    "print(\"The index of the middile element of lst is \",num_lst[middle_index])"
   ]
  },
  {
   "cell_type": "code",
   "execution_count": 11,
   "metadata": {},
   "outputs": [
    {
     "name": "stdout",
     "output_type": "stream",
     "text": [
      "[95, 56, 12, 12, 8, 7, 6, 4, 3, 2]\n"
     ]
    }
   ],
   "source": [
    "#(c)\n",
    "num_lst = [12, 56, 8, 95, 12, 3, 4, 2, 7, 6]\n",
    "num_lst.sort()\n",
    "num_lst.reverse()\n",
    "print(num_lst)"
   ]
  },
  {
   "cell_type": "code",
   "execution_count": 12,
   "metadata": {},
   "outputs": [
    {
     "name": "stdout",
     "output_type": "stream",
     "text": [
      "[56, 8, 95, 12, 3, 4, 2, 7, 6, 12]\n"
     ]
    }
   ],
   "source": [
    "#(d)\n",
    "num_lst = [12, 56, 8, 95, 12, 3, 4, 2, 7, 6]\n",
    "num_lst.remove(12)\n",
    "num_lst.append(12)\n",
    "print(num_lst)"
   ]
  },
  {
   "cell_type": "markdown",
   "metadata": {},
   "source": [
    "#QUESTION 4"
   ]
  },
  {
   "cell_type": "code",
   "execution_count": 22,
   "metadata": {},
   "outputs": [
    {
     "name": "stdout",
     "output_type": "stream",
     "text": [
      "['jan', 'Feb', 'Mar', 'Apr', 'May']\n",
      "['jan', 'Feb', 'Mar', 'Apr', 'May']\n"
     ]
    }
   ],
   "source": [
    "#(A)\n",
    "monthsL = [\"jan\",\"Feb\",\"Mar\",\"May\"]\n",
    "monthsT = (\"jan\",\"Feb\",\"Mar\",\"May\")\n",
    "monthsL.insert(3,\"Apr\")\n",
    "monthsV = list(monthsT)\n",
    "monthsV.insert(3,\"Apr\")\n",
    "monthsT = tuple(monthsV)\n",
    "print(monthsL)\n",
    "print(monthsV)"
   ]
  },
  {
   "cell_type": "code",
   "execution_count": 24,
   "metadata": {},
   "outputs": [
    {
     "name": "stdout",
     "output_type": "stream",
     "text": [
      "['jan', 'Feb', 'Mar', 'May', 'Jun']\n",
      "['jan', 'Feb', 'Mar', 'May', 'Jun']\n"
     ]
    }
   ],
   "source": [
    "#(B)\n",
    "monthsL = [\"jan\",\"Feb\",\"Mar\",\"May\"]\n",
    "monthsT = (\"jan\",\"Feb\",\"Mar\",\"May\")\n",
    "monthsL.append(\"Jun\")\n",
    "monthsV = list(monthsT)\n",
    "monthsV.append(\"Jun\")\n",
    "monthsT = tuple(monthsV)\n",
    "print(monthsL)\n",
    "print(monthsV)"
   ]
  },
  {
   "cell_type": "code",
   "execution_count": 25,
   "metadata": {},
   "outputs": [
    {
     "name": "stdout",
     "output_type": "stream",
     "text": [
      "['jan', 'Feb', 'Mar']\n",
      "('jan', 'Feb', 'Mar')\n"
     ]
    }
   ],
   "source": [
    "#(C)\n",
    "monthsL = [\"jan\",\"Feb\",\"Mar\",\"May\"]\n",
    "monthsT = (\"jan\",\"Feb\",\"Mar\",\"May\")\n",
    "monthsV = list(monthsT)\n",
    "monthsV.pop()\n",
    "monthsL.pop()\n",
    "monthsT = tuple(monthsV)\n",
    "print(monthsL)\n",
    "print(monthsT)"
   ]
  },
  {
   "cell_type": "code",
   "execution_count": 30,
   "metadata": {},
   "outputs": [
    {
     "name": "stdout",
     "output_type": "stream",
     "text": [
      "['jan', 'Mar', 'May']\n",
      "('jan', 'Mar', 'May')\n"
     ]
    }
   ],
   "source": [
    "#(D)\n",
    "monthsL = [\"jan\",\"Feb\",\"Mar\",\"May\"]\n",
    "monthsT = (\"jan\",\"Feb\",\"Mar\",\"May\")\n",
    "monthsV = list(monthsT)\n",
    "monthsV.remove(\"Feb\")\n",
    "monthsL.remove(\"Feb\")\n",
    "monthsT = tuple(monthsV)\n",
    "print(monthsL)\n",
    "print(monthsT)\n"
   ]
  },
  {
   "cell_type": "code",
   "execution_count": 31,
   "metadata": {},
   "outputs": [
    {
     "name": "stdout",
     "output_type": "stream",
     "text": [
      "['May', 'Mar', 'Feb', 'jan']\n",
      "('May', 'Mar', 'Feb', 'jan')\n"
     ]
    }
   ],
   "source": [
    "#(E)\n",
    "monthsL = [\"jan\",\"Feb\",\"Mar\",\"May\"]\n",
    "monthsT = (\"jan\",\"Feb\",\"Mar\",\"May\")\n",
    "monthsV = list(monthsT)\n",
    "monthsV.reverse()\n",
    "monthsL.reverse()\n",
    "monthsT = tuple(monthsV)\n",
    "print(monthsL)\n",
    "print(monthsT)\n"
   ]
  },
  {
   "cell_type": "code",
   "execution_count": 32,
   "metadata": {},
   "outputs": [
    {
     "name": "stdout",
     "output_type": "stream",
     "text": [
      "['Feb', 'Jan', 'Mar', 'May']\n",
      "('Feb', 'Jan', 'Mar', 'May')\n"
     ]
    }
   ],
   "source": [
    "#(F)\n",
    "monthsL = [\"Jan\",\"Feb\",\"Mar\",\"May\"]\n",
    "monthsT = (\"Jan\",\"Feb\",\"Mar\",\"May\")\n",
    "monthsV = list(monthsT)\n",
    "monthsV.sort()\n",
    "monthsL.sort()\n",
    "monthsT = tuple(monthsV)\n",
    "print(monthsL)\n",
    "print(monthsT)"
   ]
  },
  {
   "cell_type": "markdown",
   "metadata": {},
   "source": [
    "#QUESTION 5"
   ]
  },
  {
   "cell_type": "code",
   "execution_count": 33,
   "metadata": {},
   "outputs": [
    {
     "name": "stdout",
     "output_type": "stream",
     "text": [
      "Lenght of 'anachronistically' is :  17\n",
      "Lenght of  'counterintuitive is' :  16\n",
      "The number of characters in the word anachronistically is 1 more than the number of characters in the word counterintuitive\n"
     ]
    }
   ],
   "source": [
    "#(A)\n",
    "print(\"Lenght of 'anachronistically' is : \",len(\"anachronistically\"))\n",
    "print(\"Lenght of  'counterintuitive is' : \",len(\"counterintuitive\"))\n",
    "print(\"The number of characters in the word anachronistically is 1 more than the number of characters in the word counterintuitive\")\n"
   ]
  },
  {
   "cell_type": "code",
   "execution_count": 34,
   "metadata": {},
   "outputs": [
    {
     "name": "stdout",
     "output_type": "stream",
     "text": [
      "('The word misinterpretation appears earlier in the dictionary than the word misrepresentation', False)\n"
     ]
    }
   ],
   "source": [
    "#(B)\n",
    "word = \"misinterpretation\" > \"misrepresentation\"\n",
    "print((\"The word misinterpretation appears earlier in the dictionary than the word misrepresentation\",word))"
   ]
  },
  {
   "cell_type": "code",
   "execution_count": 35,
   "metadata": {},
   "outputs": [
    {
     "name": "stdout",
     "output_type": "stream",
     "text": [
      "The letter 'e'  appear in the word 'floccinaucinihilipilification' False\n"
     ]
    }
   ],
   "source": [
    "#(C)\n",
    "word = \"floccinaucinihilipilification\"\n",
    "print(\"The letter 'e'  appear in the word 'floccinaucinihilipilification'\",'e' in word)"
   ]
  },
  {
   "cell_type": "code",
   "execution_count": 36,
   "metadata": {},
   "outputs": [
    {
     "name": "stdout",
     "output_type": "stream",
     "text": [
      "The number of characters in 'counterrevolution' is :  17\n",
      "The number of characters in 'counter' is :  7\n",
      "The number of characters in 'resolution' is :  10\n",
      "The number of characters in 'counter' and 'resolution' is equal to 'counterrevolution' 17\n"
     ]
    }
   ],
   "source": [
    "#(D)\n",
    "word_1 = \"counterrevolution\"\n",
    "word_2 = \"counter\"\n",
    "word_3 = \"resolution\"\n",
    "print(\"The number of characters in 'counterrevolution' is : \",len(word_1))\n",
    "print(\"The number of characters in 'counter' is : \",len(word_2))\n",
    "print(\"The number of characters in 'resolution' is : \",len(word_3))\n",
    "print(\"The number of characters in 'counter' and 'resolution' is equal to 'counterrevolution'\",len(word_2)+len(word_3))"
   ]
  },
  {
   "cell_type": "markdown",
   "metadata": {},
   "source": [
    "#QUESTION 6"
   ]
  },
  {
   "cell_type": "code",
   "execution_count": 37,
   "metadata": {},
   "outputs": [
    {
     "name": "stdout",
     "output_type": "stream",
     "text": [
      "The Value of a is :  6\n",
      "The Value of b is :  7\n"
     ]
    }
   ],
   "source": [
    "#(A)\n",
    "a = 6\n",
    "b = 7\n",
    "print(\"The Value of a is : \",a)\n",
    "print(\"The Value of b is : \",b)"
   ]
  },
  {
   "cell_type": "code",
   "execution_count": 38,
   "metadata": {},
   "outputs": [
    {
     "name": "stdout",
     "output_type": "stream",
     "text": [
      "The sum of a and b is :  6.5\n"
     ]
    }
   ],
   "source": [
    "#(B)\n",
    "a = 6\n",
    "b = 7\n",
    "c = ((a+b)/2)\n",
    "print(\"The sum of a and b is : \",c)"
   ]
  },
  {
   "cell_type": "code",
   "execution_count": 39,
   "metadata": {},
   "outputs": [
    {
     "name": "stdout",
     "output_type": "stream",
     "text": [
      "The of inventory is :  ['paper', 'staples', 'pencils']\n"
     ]
    }
   ],
   "source": [
    "#(C)\n",
    "inventory = [\"paper\",\"staples\",\"pencils\"]\n",
    "print(\"The of inventory is : \",inventory)"
   ]
  },
  {
   "cell_type": "code",
   "execution_count": 40,
   "metadata": {},
   "outputs": [
    {
     "name": "stdout",
     "output_type": "stream",
     "text": [
      "john Fitzgerald Kennedy\n"
     ]
    }
   ],
   "source": [
    "#(D)'\n",
    "first_name = \"john\"\n",
    "middle_name = \"Fitzgerald\"\n",
    "last_name = \"Kennedy\"\n",
    "print(first_name  +' '+middle_name  +' '+ last_name )"
   ]
  },
  {
   "cell_type": "markdown",
   "metadata": {},
   "source": [
    "#QUESTION 7\n"
   ]
  },
  {
   "cell_type": "code",
   "execution_count": 41,
   "metadata": {},
   "outputs": [
    {
     "name": "stdout",
     "output_type": "stream",
     "text": [
      "Enter the x coordinate : 6\n",
      "Enter the y coordinate : 6\n",
      "8.48528137423857\n",
      "HIT\n"
     ]
    }
   ],
   "source": [
    "import math\n",
    "radius = 10\n",
    "coordinate_x = float(input(\"Enter the x coordinate : \"))\n",
    "coordinate_y = float(input(\"Enter the y coordinate : \"))\n",
    "distance = math.sqrt((coordinate_x*coordinate_x)+(coordinate_y*coordinate_y))\n",
    "print(distance)\n",
    "if distance < radius:\n",
    "    print(\"HIT\")\n",
    "else:\n",
    "    print(\"Missed\")\n"
   ]
  },
  {
   "cell_type": "code",
   "execution_count": 42,
   "metadata": {},
   "outputs": [
    {
     "name": "stdout",
     "output_type": "stream",
     "text": [
      "Enter the x coordinate : 7\n",
      "Enter the y coordinate : 8\n",
      "10.63014581273465\n",
      "Missed\n"
     ]
    }
   ],
   "source": [
    "import math\n",
    "radius = 10\n",
    "coordinate_x = float(input(\"Enter the x coordinate : \"))\n",
    "coordinate_y = float(input(\"Enter the y coordinate : \"))\n",
    "distance = math.sqrt((coordinate_x*coordinate_x)+(coordinate_y*coordinate_y))\n",
    "print(distance)\n",
    "if distance < radius:\n",
    "    print(\"HIT\")\n",
    "else:\n",
    "    print(\"Missed\")\n"
   ]
  },
  {
   "cell_type": "code",
   "execution_count": null,
   "metadata": {},
   "outputs": [],
   "source": []
  }
 ],
 "metadata": {
  "kernelspec": {
   "display_name": "Python 3",
   "language": "python",
   "name": "python3"
  },
  "language_info": {
   "codemirror_mode": {
    "name": "ipython",
    "version": 3
   },
   "file_extension": ".py",
   "mimetype": "text/x-python",
   "name": "python",
   "nbconvert_exporter": "python",
   "pygments_lexer": "ipython3",
   "version": "3.6.5"
  }
 },
 "nbformat": 4,
 "nbformat_minor": 2
}

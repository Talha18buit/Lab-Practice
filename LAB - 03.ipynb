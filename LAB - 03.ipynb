{
 "cells": [
  {
   "cell_type": "markdown",
   "metadata": {},
   "source": [
    "# LAB - 03 "
   ]
  },
  {
   "cell_type": "markdown",
   "metadata": {},
   "source": [
    "# Programming Exercises "
   ]
  },
  {
   "cell_type": "markdown",
   "metadata": {},
   "source": [
    "Question 1. A ball at the end of a string is revolving uniformly in a horizontal circle of radius 2 meters at\n",
    "constant angular speed 10 rad/s. Determine the magnitude of the linear velocity of a point located:\n",
    "(a) 0.5 meters from the center\n",
    "(b) 1 meter from the center\n",
    "(c) 2 meters from the center\n",
    "Known: Radius (r) = 0.5 meters, 1 meter, 3 meters, The angular speed = 10 radians/second\n",
    "Wanted: The linear velocity\n",
    "Formula: v = r ω\n"
   ]
  },
  {
   "cell_type": "code",
   "execution_count": 2,
   "metadata": {
    "collapsed": false
   },
   "outputs": [
    {
     "name": "stdout",
     "output_type": "stream",
     "text": [
      "Enter The radius to determine the linear velocity : 0.5\n",
      "The Linear Velocity of radius 0.5  is 5.0 (meter / seconds)\n"
     ]
    }
   ],
   "source": [
    "#FORMULA v = rw\n",
    "w = 10\n",
    "r = float(input(\"Enter The radius to determine the linear velocity : \"))\n",
    "linear_velocity = r*w\n",
    "print(\"The Linear Velocity of radius\",str(r), \" is\",linear_velocity, \"(meter / seconds)\")"
   ]
  },
  {
   "cell_type": "markdown",
   "metadata": {},
   "source": [
    "# QUESTION 2"
   ]
  },
  {
   "cell_type": "markdown",
   "metadata": {},
   "source": [
    "Question 2. The blades in a blender rotate at a rate of 5000 rpm. Determine the magnitude of the linear\n",
    "velocity:\n",
    "(a) a point located 5 cm from the center\n",
    "(b) a point located 10 cm from the center\n",
    "Known: Radius (r) = 5 cm and 10 cm\n",
    "The angular speed (ω) = 5000 revolutions / 60 seconds = 83.3 revolutions / second = (83.3)(6.28 radian) /\n",
    "second = 523.3 radians / second\n",
    "Wanted: The magnitude of the linear velocity\n",
    "Formula: v = r ω\n"
   ]
  },
  {
   "cell_type": "code",
   "execution_count": 3,
   "metadata": {
    "collapsed": false
   },
   "outputs": [
    {
     "name": "stdout",
     "output_type": "stream",
     "text": [
      "Enter The radius to determine the linear velocity : 5\n",
      "The Linear Velocity of radius 5.0  is 2616.5 (center_meter / seconds)\n"
     ]
    }
   ],
   "source": [
    "#FORMULA v = rw\n",
    "w = 523.3\n",
    "r = float(input(\"Enter The radius to determine the linear velocity : \"))\n",
    "linear_velocity = r*w\n",
    "print(\"The Linear Velocity of radius\",str(r), \" is\",linear_velocity, \"(center_meter / seconds)\")"
   ]
  },
  {
   "cell_type": "markdown",
   "metadata": {},
   "source": [
    "# QUESTION 3"
   ]
  },
  {
   "cell_type": "markdown",
   "metadata": {},
   "source": [
    "Question 3. A point on the edge of a wheel 30 cm in radius, around a circle at constant speed 10\n",
    "meters/second.\n",
    "What is the magnitude of the angular velocity?\n",
    "Known: Radius (r) = 30 cm = 0.3 meters, The linear velocity (v) = 10 meters/second\n",
    "Wanted: the angular velocity\n",
    "Formula: v = r ω"
   ]
  },
  {
   "cell_type": "code",
   "execution_count": 4,
   "metadata": {
    "collapsed": false
   },
   "outputs": [
    {
     "name": "stdout",
     "output_type": "stream",
     "text": [
      "Enter Linear velocity : 10\n",
      "Enter The radius : 0.3\n",
      "The linear velocity is  10.0  The radius is  0.3  The wanted angular velocity is  33.333333333333336\n"
     ]
    }
   ],
   "source": [
    "#FORMULA v = rw\n",
    "import math\n",
    "linear_velocity = float(input(\"Enter Linear velocity : \"))\n",
    "r = float(input(\"Enter The radius : \"))\n",
    "angular_velocity = (linear_velocity/r)\n",
    "print(\"The linear velocity is \",str(linear_velocity),\" The radius is \",str(r),\" The wanted angular velocity is \",str(angular_velocity))"
   ]
  },
  {
   "cell_type": "markdown",
   "metadata": {},
   "source": [
    "# QUESTION 4"
   ]
  },
  {
   "cell_type": "markdown",
   "metadata": {},
   "source": [
    "#Question 4. A car with tires 50 cm in diameter travels 10 meters in 1 second. What is the angular speed?\n",
    "Known:\n",
    "Radius (r) = 0.25 meter, The linear speed of a point on the edge of tires (v) = 10 meters/second\n",
    "Wanted: The angular speed\n",
    "Formula: v = r ω"
   ]
  },
  {
   "cell_type": "code",
   "execution_count": 5,
   "metadata": {
    "collapsed": false
   },
   "outputs": [
    {
     "name": "stdout",
     "output_type": "stream",
     "text": [
      "Enter Linear velocity : 10\n",
      "Enter The radius : 0.25\n",
      "The linear velocity is  10.0  The radius is  0.25  The wanted angular velocity is  40.0 Rad / s\n"
     ]
    }
   ],
   "source": [
    "#FORMULA v = rw\n",
    "import math\n",
    "linear_velocity = float(input(\"Enter Linear velocity : \"))\n",
    "r = float(input(\"Enter The radius : \"))\n",
    "angular_velocity = (linear_velocity/r)\n",
    "print(\"The linear velocity is \",str(linear_velocity),\" The radius is \",str(r),\" The wanted angular velocity is \",str(angular_velocity),\"Rad / s\")"
   ]
  },
  {
   "cell_type": "markdown",
   "metadata": {},
   "source": [
    "# QUESTION 5 "
   ]
  },
  {
   "cell_type": "markdown",
   "metadata": {},
   "source": [
    "Question 5. The angular speed of wheel 20 cm in radians is 120 rpm. What is the distance if the car travels\n",
    "in 10 seconds.\n",
    "Known: Radius (r) = 20 cm = 0.2 meters\n",
    "The angular speed = 120 rev / 60 seconds = 2 rev / second = (2)(6.28) radians / second = 12.56 radians /\n",
    "second\n",
    "Wanted: distance\n",
    "Formula: v = r ω"
   ]
  },
  {
   "cell_type": "code",
   "execution_count": 7,
   "metadata": {
    "collapsed": false
   },
   "outputs": [
    {
     "name": "stdout",
     "output_type": "stream",
     "text": [
      "The distance travelled in 10 seconds is: 25.120000000000005 meter\n"
     ]
    }
   ],
   "source": [
    "import math\n",
    "\n",
    "#known\n",
    "r = 0.2 \n",
    "w = 12.56\n",
    "t = 10\n",
    "\n",
    "#Calculation\n",
    "d = r*w*t\n",
    "\n",
    "print('The distance travelled in 10 seconds is:',d,'meter')"
   ]
  },
  {
   "cell_type": "markdown",
   "metadata": {},
   "source": [
    "# QUESTION 6 "
   ]
  },
  {
   "cell_type": "markdown",
   "metadata": {},
   "source": [
    "Question 6: A car is running at a velocity of 50 miles per hour and the driver accelerates the car by 10\n",
    "miles/hr2\n",
    ". How far the car travels from this point in the next 2 hours, if the acceleration is constant.\n",
    "Formula: v = u + at"
   ]
  },
  {
   "cell_type": "code",
   "execution_count": 8,
   "metadata": {
    "collapsed": false
   },
   "outputs": [
    {
     "ename": "SyntaxError",
     "evalue": "invalid syntax (<ipython-input-8-dc14ca1a2009>, line 1)",
     "output_type": "error",
     "traceback": [
      "\u001b[0;36m  File \u001b[0;32m\"<ipython-input-8-dc14ca1a2009>\"\u001b[0;36m, line \u001b[0;32m1\u001b[0m\n\u001b[0;31m    mport math\u001b[0m\n\u001b[0m             ^\u001b[0m\n\u001b[0;31mSyntaxError\u001b[0m\u001b[0;31m:\u001b[0m invalid syntax\n"
     ]
    }
   ],
   "source": [
    "mport math\n",
    "\n",
    "#Known\n",
    "u = 50 \n",
    "a = 10\n",
    "t = 2\n",
    "\n",
    "#Calculations\n",
    "d = (u + a*t)*t\n",
    "\n",
    "print('The Distance travelled in 2 hours is:',d,'miles')"
   ]
  },
  {
   "cell_type": "markdown",
   "metadata": {},
   "source": [
    "# QUESTION 7 "
   ]
  },
  {
   "cell_type": "markdown",
   "metadata": {},
   "source": [
    "Question 7: A Stone is dropped freely from a height of 100 feet. With what velocity will it hit the ground?\n",
    "(Neglect the air resistance and assume the acceleration due to gravity is 32ft/s2\n",
    ").\n",
    "Formula: v\n",
    "2 – u\n",
    "2 = 2as"
   ]
  },
  {
   "cell_type": "code",
   "execution_count": 9,
   "metadata": {
    "collapsed": false
   },
   "outputs": [
    {
     "name": "stdout",
     "output_type": "stream",
     "text": [
      "The final velocity of stone will be: 80.0 ft/s\n"
     ]
    }
   ],
   "source": [
    "import math\n",
    "\n",
    "#Known\n",
    "u = 0\n",
    "s = 100\n",
    "a = 32\n",
    "\n",
    "#Calculations\n",
    "v = (2*a*s + u**2)**0.5\n",
    "\n",
    "print('The final velocity of stone will be:',v,'ft/s')"
   ]
  },
  {
   "cell_type": "code",
   "execution_count": null,
   "metadata": {
    "collapsed": true
   },
   "outputs": [],
   "source": []
  }
 ],
 "metadata": {
  "kernelspec": {
   "display_name": "Python 3",
   "language": "python",
   "name": "python3"
  },
  "language_info": {
   "codemirror_mode": {
    "name": "ipython",
    "version": 3
   },
   "file_extension": ".py",
   "mimetype": "text/x-python",
   "name": "python",
   "nbconvert_exporter": "python",
   "pygments_lexer": "ipython3",
   "version": "3.6.0"
  }
 },
 "nbformat": 4,
 "nbformat_minor": 2
}
